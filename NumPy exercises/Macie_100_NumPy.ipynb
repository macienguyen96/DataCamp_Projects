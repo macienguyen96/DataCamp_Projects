{
 "cells": [
  {
   "cell_type": "markdown",
   "id": "7e1387d3-62c0-4511-837d-37829ce0bdb9",
   "metadata": {},
   "source": [
    "# 100 numpy exercises\n",
    "\n",
    "This is a collection of exercises that have been collected in the numpy mailing list, on stack overflow\n",
    "and in the numpy documentation. The goal of this collection is to offer a quick reference for both old\n",
    "and new users but also to provide a set of exercises for those who teach.\n",
    "\n",
    "\n",
    "If you find an error or think you've a better way to solve some of them, feel\n",
    "free to open an issue at <https://github.com/rougier/numpy-100>.\n",
    "File automatically generated. See the documentation to update questions/answers/hints programmatically."
   ]
  },
  {
   "cell_type": "markdown",
   "id": "c7439618-94e2-4da5-ac4a-7acc4107fae3",
   "metadata": {},
   "source": [
    "#### 1. Import the numpy package under the name `np` (★☆☆)\n",
    "`hint: import … as`"
   ]
  },
  {
   "cell_type": "code",
   "execution_count": 1,
   "id": "0b029b55-a511-44b9-a6de-e3281f8061c9",
   "metadata": {},
   "outputs": [],
   "source": [
    "import numpy as np"
   ]
  },
  {
   "cell_type": "markdown",
   "id": "12f60593-0e5e-432d-b47c-797e8c308ec1",
   "metadata": {},
   "source": [
    "#### 2. Print the numpy version and the configuration (★☆☆)\n",
    "`hint: np.__version__, np.show_config)`"
   ]
  },
  {
   "cell_type": "code",
   "execution_count": 9,
   "id": "5cd8c53d-cb1f-4bf2-a9ab-b4644ecbaf20",
   "metadata": {},
   "outputs": [
    {
     "name": "stdout",
     "output_type": "stream",
     "text": [
      "1.21.2\n",
      "blas_mkl_info:\n",
      "    libraries = ['mkl_rt', 'pthread']\n",
      "    library_dirs = ['/Users/apple/Anaconda3/anaconda3/envs/macienguyen96/lib']\n",
      "    define_macros = [('SCIPY_MKL_H', None), ('HAVE_CBLAS', None)]\n",
      "    include_dirs = ['/Users/apple/Anaconda3/anaconda3/envs/macienguyen96/include']\n",
      "blas_opt_info:\n",
      "    libraries = ['mkl_rt', 'pthread']\n",
      "    library_dirs = ['/Users/apple/Anaconda3/anaconda3/envs/macienguyen96/lib']\n",
      "    define_macros = [('SCIPY_MKL_H', None), ('HAVE_CBLAS', None)]\n",
      "    include_dirs = ['/Users/apple/Anaconda3/anaconda3/envs/macienguyen96/include']\n",
      "lapack_mkl_info:\n",
      "    libraries = ['mkl_rt', 'pthread']\n",
      "    library_dirs = ['/Users/apple/Anaconda3/anaconda3/envs/macienguyen96/lib']\n",
      "    define_macros = [('SCIPY_MKL_H', None), ('HAVE_CBLAS', None)]\n",
      "    include_dirs = ['/Users/apple/Anaconda3/anaconda3/envs/macienguyen96/include']\n",
      "lapack_opt_info:\n",
      "    libraries = ['mkl_rt', 'pthread']\n",
      "    library_dirs = ['/Users/apple/Anaconda3/anaconda3/envs/macienguyen96/lib']\n",
      "    define_macros = [('SCIPY_MKL_H', None), ('HAVE_CBLAS', None)]\n",
      "    include_dirs = ['/Users/apple/Anaconda3/anaconda3/envs/macienguyen96/include']\n",
      "Supported SIMD extensions in this NumPy install:\n",
      "    baseline = SSE,SSE2,SSE3\n",
      "    found = SSSE3,SSE41,POPCNT,SSE42,AVX,F16C,FMA3,AVX2\n",
      "    not found = AVX512F,AVX512CD,AVX512_KNL,AVX512_SKX,AVX512_CLX,AVX512_CNL,AVX512_ICL\n"
     ]
    }
   ],
   "source": [
    "print(np.__version__)\n",
    "np.show_config()"
   ]
  },
  {
   "cell_type": "markdown",
   "id": "afd8234b-aaa8-4cf9-a227-a8ebbef504f1",
   "metadata": {},
   "source": [
    "#### 3. Create a null vector of size 10 (★☆☆)\n",
    "`hint: np.zeros`"
   ]
  },
  {
   "cell_type": "code",
   "execution_count": 11,
   "id": "337947bb-ae19-4bff-9977-834388eac06e",
   "metadata": {},
   "outputs": [
    {
     "name": "stdout",
     "output_type": "stream",
     "text": [
      "[0. 0. 0. 0. 0. 0. 0. 0. 0. 0.]\n"
     ]
    }
   ],
   "source": [
    "x = np.zeros(10)\n",
    "print(x)"
   ]
  },
  {
   "cell_type": "markdown",
   "id": "c7c87e48-40cf-4b49-8a88-9be19281d847",
   "metadata": {},
   "source": [
    "#### 4. How to find the memory size of any array (★☆☆)\n",
    "`hint: size, itemsize`"
   ]
  },
  {
   "cell_type": "code",
   "execution_count": 16,
   "id": "9fe32199-1f5b-447c-8f51-29da3754777c",
   "metadata": {},
   "outputs": [
    {
     "name": "stdout",
     "output_type": "stream",
     "text": [
      "10\n",
      "8\n"
     ]
    }
   ],
   "source": [
    "print(x.size) # size of the array\n",
    "print(x.itemsize) # memory size of an item in the array"
   ]
  },
  {
   "cell_type": "code",
   "execution_count": 15,
   "id": "a9839388-0771-45c1-bcfd-bdac2de53284",
   "metadata": {},
   "outputs": [
    {
     "name": "stdout",
     "output_type": "stream",
     "text": [
      "80 bytes\n"
     ]
    }
   ],
   "source": [
    "print(\"%d bytes\" % (x.size * x.itemsize))"
   ]
  },
  {
   "cell_type": "markdown",
   "id": "b9a3d406-4132-4d98-86b4-570ac5e4e81c",
   "metadata": {},
   "source": [
    "#### 5. How to get the documentation of the numpy add function from the command line? (★☆☆)\n",
    "`hint: np.info`"
   ]
  },
  {
   "cell_type": "code",
   "execution_count": 20,
   "id": "1591947f-d428-476e-bbff-8d060ed3691f",
   "metadata": {},
   "outputs": [
    {
     "name": "stdout",
     "output_type": "stream",
     "text": [
      "add(x1, x2, /, out=None, *, where=True, casting='same_kind', order='K', dtype=None, subok=True[, signature, extobj])\n",
      "\n",
      "Add arguments element-wise.\n",
      "\n",
      "Parameters\n",
      "----------\n",
      "x1, x2 : array_like\n",
      "    The arrays to be added.\n",
      "    If ``x1.shape != x2.shape``, they must be broadcastable to a common\n",
      "    shape (which becomes the shape of the output).\n",
      "out : ndarray, None, or tuple of ndarray and None, optional\n",
      "    A location into which the result is stored. If provided, it must have\n",
      "    a shape that the inputs broadcast to. If not provided or None,\n",
      "    a freshly-allocated array is returned. A tuple (possible only as a\n",
      "    keyword argument) must have length equal to the number of outputs.\n",
      "where : array_like, optional\n",
      "    This condition is broadcast over the input. At locations where the\n",
      "    condition is True, the `out` array will be set to the ufunc result.\n",
      "    Elsewhere, the `out` array will retain its original value.\n",
      "    Note that if an uninitialized `out` array is created via the default\n",
      "    ``out=None``, locations within it where the condition is False will\n",
      "    remain uninitialized.\n",
      "**kwargs\n",
      "    For other keyword-only arguments, see the\n",
      "    :ref:`ufunc docs <ufuncs.kwargs>`.\n",
      "\n",
      "Returns\n",
      "-------\n",
      "add : ndarray or scalar\n",
      "    The sum of `x1` and `x2`, element-wise.\n",
      "    This is a scalar if both `x1` and `x2` are scalars.\n",
      "\n",
      "Notes\n",
      "-----\n",
      "Equivalent to `x1` + `x2` in terms of array broadcasting.\n",
      "\n",
      "Examples\n",
      "--------\n",
      ">>> np.add(1.0, 4.0)\n",
      "5.0\n",
      ">>> x1 = np.arange(9.0).reshape((3, 3))\n",
      ">>> x2 = np.arange(3.0)\n",
      ">>> np.add(x1, x2)\n",
      "array([[  0.,   2.,   4.],\n",
      "       [  3.,   5.,   7.],\n",
      "       [  6.,   8.,  10.]])\n",
      "\n",
      "The ``+`` operator can be used as a shorthand for ``np.add`` on ndarrays.\n",
      "\n",
      ">>> x1 = np.arange(9.0).reshape((3, 3))\n",
      ">>> x2 = np.arange(3.0)\n",
      ">>> x1 + x2\n",
      "array([[ 0.,  2.,  4.],\n",
      "       [ 3.,  5.,  7.],\n",
      "       [ 6.,  8., 10.]])\n"
     ]
    }
   ],
   "source": [
    "np.info(np.add)"
   ]
  },
  {
   "cell_type": "markdown",
   "id": "7574b546-313a-4b98-b577-7069126614ab",
   "metadata": {},
   "source": [
    "#### 6. Create a null vector of size 10 but the fifth value which is 1 (★☆☆)\n",
    "`hint: array[4]`"
   ]
  },
  {
   "cell_type": "code",
   "execution_count": 21,
   "id": "70450249-e293-41d6-b290-16263fcc18cf",
   "metadata": {},
   "outputs": [
    {
     "name": "stdout",
     "output_type": "stream",
     "text": [
      "[0. 0. 0. 0. 1. 0. 0. 0. 0. 0.]\n"
     ]
    }
   ],
   "source": [
    "y = np.zeros(10)\n",
    "y[4] = 1\n",
    "print(y)"
   ]
  },
  {
   "cell_type": "markdown",
   "id": "57c17d9b-e89b-425c-8c28-1c09c5790663",
   "metadata": {},
   "source": [
    "#### 7. Create a vector with values ranging from 10 to 49 (★☆☆)\n",
    "`hint: arange`"
   ]
  },
  {
   "cell_type": "code",
   "execution_count": 23,
   "id": "6b7043de-8c26-47ce-8938-67dcf1e80bb1",
   "metadata": {},
   "outputs": [
    {
     "name": "stdout",
     "output_type": "stream",
     "text": [
      "[10 11 12 13 14 15 16 17 18 19 20 21 22 23 24 25 26 27 28 29 30 31 32 33\n",
      " 34 35 36 37 38 39 40 41 42 43 44 45 46 47 48 49]\n"
     ]
    }
   ],
   "source": [
    "print(np.arange(10, 50))"
   ]
  },
  {
   "cell_type": "markdown",
   "id": "9db09aa3-998e-41fa-9660-c57ed2cf83c4",
   "metadata": {},
   "source": [
    "#### 8. Reverse a vector (first element becomes last) (★☆☆)\n",
    "`hint: array[::-1]`"
   ]
  },
  {
   "cell_type": "code",
   "execution_count": 27,
   "id": "df690fc3-f53a-49c6-a19d-58ee364d6652",
   "metadata": {},
   "outputs": [
    {
     "name": "stdout",
     "output_type": "stream",
     "text": [
      "[4 3 2 1 0]\n"
     ]
    }
   ],
   "source": [
    "z = np.arange(5)\n",
    "z = z[::-1]\n",
    "print(z)"
   ]
  },
  {
   "cell_type": "markdown",
   "id": "ce4c3f7f-7a3b-4e96-a396-e0bdbb100b33",
   "metadata": {},
   "source": [
    "#### 9. Create a 3x3 matrix with values ranging from 0 to 8 (★☆☆)\n",
    "`hint: reshape`"
   ]
  },
  {
   "cell_type": "code",
   "execution_count": 29,
   "id": "d49af870-eb7f-4038-b0f3-f22120e9950f",
   "metadata": {},
   "outputs": [
    {
     "name": "stdout",
     "output_type": "stream",
     "text": [
      "[[0 1 2]\n",
      " [3 4 5]\n",
      " [6 7 8]]\n"
     ]
    }
   ],
   "source": [
    "a = np.arange(0, 9)\n",
    "print(np.reshape(a, [3, 3]))"
   ]
  },
  {
   "cell_type": "markdown",
   "id": "bd7aa5fd-a558-48d1-acb8-e3167365b49c",
   "metadata": {},
   "source": [
    "#### 10. Find indices of non-zero elements from [1,2,0,0,4,0] (★☆☆)\n",
    "`hint: np.nonzero`"
   ]
  },
  {
   "cell_type": "code",
   "execution_count": 34,
   "id": "203476e8-2237-4a71-917c-e3e5d69d282a",
   "metadata": {},
   "outputs": [
    {
     "name": "stdout",
     "output_type": "stream",
     "text": [
      "(array([0, 1, 4]),)\n"
     ]
    }
   ],
   "source": [
    "print(np.nonzero([1, 2, 0, 0, 4, 0]))"
   ]
  },
  {
   "cell_type": "markdown",
   "id": "f54e56af-84f5-40c2-9821-201d52ac2198",
   "metadata": {},
   "source": [
    "#### 11. Create a 3x3 identity matrix (★☆☆)\n",
    "`hint: np.eye`"
   ]
  },
  {
   "cell_type": "code",
   "execution_count": 35,
   "id": "16de24a9-f80d-4aee-a4f1-3a3aa79b6b15",
   "metadata": {},
   "outputs": [
    {
     "name": "stdout",
     "output_type": "stream",
     "text": [
      "[[1. 0. 0.]\n",
      " [0. 1. 0.]\n",
      " [0. 0. 1.]]\n"
     ]
    }
   ],
   "source": [
    "print(np.eye(3))"
   ]
  },
  {
   "cell_type": "markdown",
   "id": "361f8169-0270-443c-aff4-69fa00af0604",
   "metadata": {},
   "source": [
    "#### 12. Create a 3x3x3 array with random values (★☆☆)\n",
    "`hint: np.random.random`"
   ]
  },
  {
   "cell_type": "code",
   "execution_count": 38,
   "id": "b4ea7195-2f04-4732-a64f-0e2f5a2996a4",
   "metadata": {},
   "outputs": [
    {
     "name": "stdout",
     "output_type": "stream",
     "text": [
      "[0.20268093 0.26243639 0.91292542]\n"
     ]
    }
   ],
   "source": [
    "print(np.random.random(3))"
   ]
  },
  {
   "cell_type": "markdown",
   "id": "d368459a-30e4-4f1c-bc01-92774d073c8c",
   "metadata": {},
   "source": [
    "#### 13. Create a 10x10 array with random values and find the minimum and maximum values (★☆☆)\n",
    "`hint: min, max`"
   ]
  },
  {
   "cell_type": "code",
   "execution_count": 40,
   "id": "119ad297-c691-4f60-93d3-9e4a7ecedf4d",
   "metadata": {},
   "outputs": [
    {
     "name": "stdout",
     "output_type": "stream",
     "text": [
      "0.06464499160701431\n",
      "0.7816625535128681\n"
     ]
    }
   ],
   "source": [
    "c = np.random.random(10)\n",
    "print(c.min())\n",
    "print(c.max())"
   ]
  },
  {
   "cell_type": "markdown",
   "id": "09200d19-0063-43fa-8e8c-e555fdee0d24",
   "metadata": {},
   "source": [
    "#### 14. Create a random vector of size 30 and find the mean value (★☆☆)\n",
    "`hint: mean`"
   ]
  },
  {
   "cell_type": "code",
   "execution_count": 41,
   "id": "11052b88-41d6-4c2e-9a7b-fad20344b75e",
   "metadata": {},
   "outputs": [
    {
     "name": "stdout",
     "output_type": "stream",
     "text": [
      "0.4330234979310313\n"
     ]
    }
   ],
   "source": [
    "d = np.random.random(30)\n",
    "print(d.mean())"
   ]
  },
  {
   "cell_type": "markdown",
   "id": "4dec7d9c-bd8b-42e9-b4f0-8b7ac2598e56",
   "metadata": {},
   "source": [
    "#### 15. Create a 2d array with 1 on the border and 0 inside (★☆☆)\n",
    "`hint: array[1:-1, 1:-1]`"
   ]
  },
  {
   "cell_type": "code",
   "execution_count": 46,
   "id": "b8f7b881-72b6-4373-8246-80b09d584504",
   "metadata": {},
   "outputs": [
    {
     "name": "stdout",
     "output_type": "stream",
     "text": [
      "[[1. 1. 1. 1. 1. 1. 1. 1. 1. 1.]\n",
      " [1. 0. 0. 0. 0. 0. 0. 0. 0. 1.]\n",
      " [1. 0. 0. 0. 0. 0. 0. 0. 0. 1.]\n",
      " [1. 0. 0. 0. 0. 0. 0. 0. 0. 1.]\n",
      " [1. 0. 0. 0. 0. 0. 0. 0. 0. 1.]\n",
      " [1. 0. 0. 0. 0. 0. 0. 0. 0. 1.]\n",
      " [1. 0. 0. 0. 0. 0. 0. 0. 0. 1.]\n",
      " [1. 0. 0. 0. 0. 0. 0. 0. 0. 1.]\n",
      " [1. 0. 0. 0. 0. 0. 0. 0. 0. 1.]\n",
      " [1. 1. 1. 1. 1. 1. 1. 1. 1. 1.]]\n"
     ]
    }
   ],
   "source": [
    "e = np.ones((10, 10))\n",
    "e[1:-1, 1:-1] = 0\n",
    "print(e)"
   ]
  },
  {
   "cell_type": "markdown",
   "id": "2cb81d47-f246-4126-ad03-ba973e418be5",
   "metadata": {},
   "source": [
    "#### 16. How to add a border (filled with 0's) around an existing array? (★☆☆)\n",
    "`hint: np.pad`"
   ]
  },
  {
   "cell_type": "code",
   "execution_count": 49,
   "id": "7351e1b1-bd2a-47a9-af7f-d245e4b5407f",
   "metadata": {},
   "outputs": [
    {
     "name": "stdout",
     "output_type": "stream",
     "text": [
      "[[0. 0. 0. 0. 0. 0. 0.]\n",
      " [0. 1. 1. 1. 1. 1. 0.]\n",
      " [0. 1. 1. 1. 1. 1. 0.]\n",
      " [0. 1. 1. 1. 1. 1. 0.]\n",
      " [0. 1. 1. 1. 1. 1. 0.]\n",
      " [0. 1. 1. 1. 1. 1. 0.]\n",
      " [0. 0. 0. 0. 0. 0. 0.]]\n"
     ]
    }
   ],
   "source": [
    "f = np.ones((5,5))\n",
    "f = np.pad(f, pad_width=1, mode='constant', constant_values=0)\n",
    "print(f)"
   ]
  },
  {
   "cell_type": "markdown",
   "id": "f053d547-e413-453e-8a6c-96618ebae1e3",
   "metadata": {},
   "source": [
    "#### 17. What is the result of the following expression? (★☆☆)\n",
    "```python\n",
    "0 * np.nan\n",
    "np.nan == np.nan\n",
    "np.inf > np.nan\n",
    "np.nan - np.nan\n",
    "np.nan in set([np.nan])\n",
    "0.3 == 3 * 0.1\n",
    "```\n",
    "`hint: NaN = not a number, inf = infinity`"
   ]
  },
  {
   "cell_type": "code",
   "execution_count": 51,
   "id": "67b0ec5a-9128-4f08-9ad1-936e55fce895",
   "metadata": {},
   "outputs": [
    {
     "name": "stdout",
     "output_type": "stream",
     "text": [
      "nan\n",
      "False\n",
      "False\n",
      "nan\n",
      "True\n",
      "False\n"
     ]
    }
   ],
   "source": [
    "print(0 * np.nan)\n",
    "print(np.nan == np.nan)\n",
    "print(np.inf > np.nan)\n",
    "print(np.nan - np.nan)\n",
    "print(np.nan in set([np.nan]))\n",
    "print(0.3 == 3 * 0.1)"
   ]
  },
  {
   "cell_type": "markdown",
   "id": "70d2c0dc-af8e-4ac0-a133-e4d71a405101",
   "metadata": {},
   "source": [
    "#### 18. Create a 5x5 matrix with values 1,2,3,4 just below the diagonal (★☆☆)\n",
    "`hint: np.diag`"
   ]
  },
  {
   "cell_type": "code",
   "execution_count": 57,
   "id": "b3231cb1-b884-45b2-809e-e56988c72160",
   "metadata": {},
   "outputs": [
    {
     "name": "stdout",
     "output_type": "stream",
     "text": [
      "[[0 0 0 0 0]\n",
      " [1 0 0 0 0]\n",
      " [0 2 0 0 0]\n",
      " [0 0 3 0 0]\n",
      " [0 0 0 4 0]]\n"
     ]
    }
   ],
   "source": [
    "print(np.diag(np.arange(1, 5), k = -1))"
   ]
  },
  {
   "cell_type": "markdown",
   "id": "caa5ece5-1868-4389-a510-e8394599fa4c",
   "metadata": {},
   "source": [
    "#### 19. Create a 8x8 matrix and fill it with a checkerboard pattern (★☆☆)\n",
    "`hint: array[::2]`"
   ]
  },
  {
   "cell_type": "markdown",
   "id": "90fee989-523d-4cd7-bf5b-a05e2562f3a0",
   "metadata": {},
   "source": [
    "`x[start:stop:step]`"
   ]
  },
  {
   "cell_type": "code",
   "execution_count": 62,
   "id": "e86477f3-b783-41bf-894a-50bdeaad728d",
   "metadata": {},
   "outputs": [
    {
     "name": "stdout",
     "output_type": "stream",
     "text": [
      "[[0. 1. 0. 1. 0. 1. 0. 1.]\n",
      " [1. 0. 1. 0. 1. 0. 1. 0.]\n",
      " [0. 1. 0. 1. 0. 1. 0. 1.]\n",
      " [1. 0. 1. 0. 1. 0. 1. 0.]\n",
      " [0. 1. 0. 1. 0. 1. 0. 1.]\n",
      " [1. 0. 1. 0. 1. 0. 1. 0.]\n",
      " [0. 1. 0. 1. 0. 1. 0. 1.]\n",
      " [1. 0. 1. 0. 1. 0. 1. 0.]]\n"
     ]
    }
   ],
   "source": [
    "g = np.zeros((8, 8))\n",
    "g[1::2,::2] = 1\n",
    "g[::2,1::2] = 1\n",
    "print(g)"
   ]
  },
  {
   "cell_type": "markdown",
   "id": "83900c56-9ece-4524-b69c-4c5bd4ad5258",
   "metadata": {},
   "source": [
    "#### 20. Consider a (6,7,8) shape array, what is the index (x,y,z) of the 100th element? (★☆☆)\n",
    "`hint: np.unravel_index`"
   ]
  },
  {
   "cell_type": "code",
   "execution_count": 64,
   "id": "7865b50f-bb8a-4c5b-ba0c-20f2985ca46e",
   "metadata": {},
   "outputs": [
    {
     "name": "stdout",
     "output_type": "stream",
     "text": [
      "(1, 5, 3)\n"
     ]
    }
   ],
   "source": [
    "print(np.unravel_index(99, (6, 7, 8)))"
   ]
  },
  {
   "cell_type": "markdown",
   "id": "abd3cd9b-dcbb-4e70-9f8b-59c01bfd1e00",
   "metadata": {},
   "source": [
    "#### 21. Create a checkerboard 8x8 matrix using the tile function (★☆☆)\n",
    "`hint: np.tile`"
   ]
  },
  {
   "cell_type": "code",
   "execution_count": 67,
   "id": "98866a78-07ba-4e69-b381-1f3dac1d2622",
   "metadata": {},
   "outputs": [
    {
     "data": {
      "text/plain": [
       "array([[0, 1, 0, 1, 0, 1, 0, 1],\n",
       "       [1, 0, 1, 0, 1, 0, 1, 0],\n",
       "       [0, 1, 0, 1, 0, 1, 0, 1],\n",
       "       [1, 0, 1, 0, 1, 0, 1, 0],\n",
       "       [0, 1, 0, 1, 0, 1, 0, 1],\n",
       "       [1, 0, 1, 0, 1, 0, 1, 0],\n",
       "       [0, 1, 0, 1, 0, 1, 0, 1],\n",
       "       [1, 0, 1, 0, 1, 0, 1, 0]])"
      ]
     },
     "execution_count": 67,
     "metadata": {},
     "output_type": "execute_result"
    }
   ],
   "source": [
    "np.tile(np.array([[0, 1], [1, 0]]), (4, 4))"
   ]
  },
  {
   "cell_type": "markdown",
   "id": "7421c61c-6e69-46e5-902f-0edcf466d70e",
   "metadata": {},
   "source": [
    "#### 22. Normalize a 5x5 random matrix (★☆☆)\n",
    "`hint: (x -mean)/std`"
   ]
  },
  {
   "cell_type": "code",
   "execution_count": 71,
   "id": "9726761e-eba8-4be7-bf90-357875c2e14f",
   "metadata": {},
   "outputs": [
    {
     "name": "stdout",
     "output_type": "stream",
     "text": [
      "[[ 1.16702439  0.93431571 -1.87429319 -0.99853386 -1.4235119 ]\n",
      " [ 0.92789357  0.56969858 -0.12903348  0.04492676  1.21676711]\n",
      " [ 1.62131289  1.41421945  0.29223316 -0.94786472 -0.62443969]\n",
      " [-0.35080621 -1.05183623 -0.7483818  -0.28555586 -0.53055823]\n",
      " [ 0.75674171 -1.56058487  1.14670658  0.91390235 -0.48034222]]\n"
     ]
    }
   ],
   "source": [
    "h = np.random.random((5,5))\n",
    "h = (h - np.mean(h))/(np.std(h))\n",
    "print(h)"
   ]
  },
  {
   "cell_type": "markdown",
   "id": "2f40cfee-4916-452d-a80c-7a8d60146d5e",
   "metadata": {},
   "source": [
    "#### 23. Create a custom dtype that describes a color as four unsigned bytes (RGBA) (★☆☆)\n",
    "`hint: np.dtype`"
   ]
  },
  {
   "cell_type": "code",
   "execution_count": 74,
   "id": "016557b8-c837-4796-b450-4370e0feb03d",
   "metadata": {},
   "outputs": [
    {
     "name": "stdout",
     "output_type": "stream",
     "text": [
      "[('r', 'u1'), ('g', 'u1'), ('b', 'u1'), ('a', 'u1')]\n"
     ]
    }
   ],
   "source": [
    "print(np.dtype([(\"r\", np.ubyte), (\"g\", np.ubyte), (\"b\", np.ubyte), (\"a\", np.ubyte)]))"
   ]
  },
  {
   "cell_type": "markdown",
   "id": "a789bdd0-013e-41fd-8625-8b79b9fd1e9c",
   "metadata": {},
   "source": [
    "#### 24. Multiply a 5x3 matrix by a 3x2 matrix (real matrix product) (★☆☆)\n",
    "`hint:`"
   ]
  },
  {
   "cell_type": "code",
   "execution_count": 75,
   "id": "349e99d8-7672-405f-b5cb-fd978e820442",
   "metadata": {},
   "outputs": [
    {
     "name": "stdout",
     "output_type": "stream",
     "text": [
      "[[3. 3.]\n",
      " [3. 3.]\n",
      " [3. 3.]\n",
      " [3. 3.]\n",
      " [3. 3.]]\n"
     ]
    }
   ],
   "source": [
    "i = np.ones((5,3)) @ np.ones((3,2))\n",
    "print(i)"
   ]
  },
  {
   "cell_type": "markdown",
   "id": "d25db8b7-58a1-471a-9d63-cb0093703195",
   "metadata": {},
   "source": [
    "#### 25. Given a 1D array, negate all elements which are between 3 and 8, in place. (★☆☆)\n",
    "`hint: >, <`"
   ]
  },
  {
   "cell_type": "code",
   "execution_count": 76,
   "id": "de6d652c-4989-43d8-8cc4-214ca5f88211",
   "metadata": {},
   "outputs": [
    {
     "name": "stdout",
     "output_type": "stream",
     "text": [
      "[ 0  1  2  3 -4 -5 -6 -7  8  9 10 11]\n"
     ]
    }
   ],
   "source": [
    "k = np.arange(12)\n",
    "k[(k > 3) & (k < 8)] *= -1\n",
    "print(k)"
   ]
  },
  {
   "cell_type": "markdown",
   "id": "9954e9a4-3551-4142-b22d-adf62573b9cc",
   "metadata": {},
   "source": [
    "#### 26. What is the output of the following script? (★☆☆)\n",
    "```python\n",
    "# Author: Jake VanderPlas\n",
    "\n",
    "print(sum(range(5),-1))\n",
    "from numpy import *\n",
    "print(sum(range(5),-1))\n",
    "```\n",
    "`hint: np.sum`"
   ]
  },
  {
   "cell_type": "code",
   "execution_count": 77,
   "id": "6756668e-4990-4606-8afa-6360ebfa2179",
   "metadata": {},
   "outputs": [
    {
     "name": "stdout",
     "output_type": "stream",
     "text": [
      "9\n",
      "10\n"
     ]
    }
   ],
   "source": [
    "print(sum(range(5),-1))\n",
    "from numpy import *\n",
    "print(sum(range(5),-1))"
   ]
  },
  {
   "cell_type": "markdown",
   "id": "6307c36c-92bd-4bb8-b331-221dece6d13b",
   "metadata": {},
   "source": [
    "#### 27. Consider an integer vector Z, which of these expressions are legal? (★☆☆)\n",
    "```python\n",
    "Z**Z\n",
    "2 << Z >> 2\n",
    "Z <- Z\n",
    "1j*Z\n",
    "Z/1/1\n",
    "Z<Z>Z\n",
    "```\n",
    "`No hints provided...`"
   ]
  },
  {
   "cell_type": "code",
   "execution_count": null,
   "id": "cf640009-3fcb-45b8-b332-952525a9569d",
   "metadata": {},
   "outputs": [],
   "source": []
  },
  {
   "cell_type": "markdown",
   "id": "34c2d878-c73e-478d-b76d-1d9b63b5359f",
   "metadata": {},
   "source": [
    "#### 28. What are the result of the following expressions? (★☆☆)\n",
    "```python\n",
    "np.array(0) / np.array(0)\n",
    "np.array(0) // np.array(0)\n",
    "np.array([np.nan]).astype(int).astype(float)\n",
    "```\n",
    "`No hints provided...`"
   ]
  },
  {
   "cell_type": "code",
   "execution_count": 85,
   "id": "dfc7a64e-128c-4338-bd49-b7184a88352e",
   "metadata": {},
   "outputs": [],
   "source": [
    "import warnings\n",
    "warnings.filterwarnings('ignore')"
   ]
  },
  {
   "cell_type": "code",
   "execution_count": 86,
   "id": "8db82245-9cf5-48a9-aeac-0902c5f11a14",
   "metadata": {},
   "outputs": [
    {
     "name": "stdout",
     "output_type": "stream",
     "text": [
      "nan\n",
      "0\n",
      "[-9.22337204e+18]\n"
     ]
    }
   ],
   "source": [
    "print(np.array(0) / np.array(0))\n",
    "print(np.array(0) // np.array(0))\n",
    "print(np.array([np.nan]).astype(int).astype(float))"
   ]
  },
  {
   "cell_type": "markdown",
   "id": "c2e94aa8-1ed3-423f-af39-8d32e4141788",
   "metadata": {},
   "source": [
    "#### 29. How to round away from zero a float array ? (★☆☆)\n",
    "`hint: np.uniform, np.copysign, np.ceil, np.abs, np.where`"
   ]
  },
  {
   "cell_type": "code",
   "execution_count": null,
   "id": "c61d9120-9b35-46b3-8be3-2ecfc83e2611",
   "metadata": {},
   "outputs": [],
   "source": []
  },
  {
   "cell_type": "markdown",
   "id": "047a92ea-b1fc-4835-af22-3b162f2f7045",
   "metadata": {},
   "source": [
    "#### 30. How to find common values between two arrays? (★☆☆)\n",
    "`hint: np.intersect1d`"
   ]
  },
  {
   "cell_type": "code",
   "execution_count": null,
   "id": "803ee35d-309e-4164-8a7b-f763b5328341",
   "metadata": {},
   "outputs": [],
   "source": []
  },
  {
   "cell_type": "markdown",
   "id": "c1041ac2-7cf4-435b-855c-51c7ec987693",
   "metadata": {},
   "source": [
    "#### 31. How to ignore all numpy warnings (not recommended)? (★☆☆)\n",
    "`hint: np.seterr, np.errstate`"
   ]
  },
  {
   "cell_type": "code",
   "execution_count": null,
   "id": "9dbf0574-8254-4f8e-97e3-d39ddd63ae38",
   "metadata": {},
   "outputs": [],
   "source": []
  },
  {
   "cell_type": "markdown",
   "id": "beb1ec2a-1140-482e-a4be-1f28a0309d33",
   "metadata": {},
   "source": [
    "#### 32. Is the following expressions true? (★☆☆)\n",
    "```python\n",
    "np.sqrt(-1) == np.emath.sqrt(-1)\n",
    "```\n",
    "`hint: imaginary number`"
   ]
  },
  {
   "cell_type": "code",
   "execution_count": null,
   "id": "bc18988c-e74d-4205-9ccd-2a24b133f0c4",
   "metadata": {},
   "outputs": [],
   "source": []
  },
  {
   "cell_type": "markdown",
   "id": "ed7529b8-4a0d-401e-a934-9e27bb36ad4d",
   "metadata": {},
   "source": [
    "#### 33. How to get the dates of yesterday, today and tomorrow? (★☆☆)\n",
    "`hint: np.datetime64, np.timedelta64`"
   ]
  },
  {
   "cell_type": "code",
   "execution_count": null,
   "id": "b3e4a924-f5bd-4108-b145-e8b7c0675542",
   "metadata": {},
   "outputs": [],
   "source": []
  },
  {
   "cell_type": "markdown",
   "id": "9841b73c-85fd-48aa-a961-3cf6ced4d0c5",
   "metadata": {},
   "source": [
    "#### 34. How to get all the dates corresponding to the month of July 2016? (★★☆)\n",
    "`hint: np.arange(dtype=datetime64['D'])`"
   ]
  },
  {
   "cell_type": "code",
   "execution_count": null,
   "id": "73b7f663-d241-4f04-a307-241ed3f2293f",
   "metadata": {},
   "outputs": [],
   "source": []
  },
  {
   "cell_type": "markdown",
   "id": "363a66c6-b5a6-40cd-9b6b-2148aafff7be",
   "metadata": {},
   "source": [
    "#### 35. How to compute ((A+B)*(-A/2)) in place (without copy)? (★★☆)\n",
    "`hint: np.add(out=), np.negative(out=), np.multiply(out=), np.divide(out=)`"
   ]
  },
  {
   "cell_type": "code",
   "execution_count": null,
   "id": "5110b5a2-f2ac-45e4-a6bd-f9e162b74471",
   "metadata": {},
   "outputs": [],
   "source": []
  },
  {
   "cell_type": "markdown",
   "id": "f910970f-0a1e-4a3b-9a71-711b1c54484a",
   "metadata": {},
   "source": [
    "#### 36. Extract the integer part of a random array of positive numbers using 4 different methods (★★☆)\n",
    "`hint: %, np.floor, astype, np.trunc`"
   ]
  },
  {
   "cell_type": "code",
   "execution_count": null,
   "id": "0e853433-018a-4721-965a-bcc40193ec82",
   "metadata": {},
   "outputs": [],
   "source": []
  },
  {
   "cell_type": "markdown",
   "id": "b7478c55-d8a3-4612-9f4f-2499e3be6384",
   "metadata": {},
   "source": [
    "#### 37. Create a 5x5 matrix with row values ranging from 0 to 4 (★★☆)\n",
    "`hint: np.arange`"
   ]
  },
  {
   "cell_type": "code",
   "execution_count": null,
   "id": "6855bc27-3f26-4a6a-846d-05a6bee34e12",
   "metadata": {},
   "outputs": [],
   "source": []
  },
  {
   "cell_type": "markdown",
   "id": "649dc3c8-5384-44dd-9eb8-b05a31fa8f13",
   "metadata": {},
   "source": [
    "#### 38. Consider a generator function that generates 10 integers and use it to build an array (★☆☆)\n",
    "`hint: np.fromiter`"
   ]
  },
  {
   "cell_type": "code",
   "execution_count": null,
   "id": "1b29b779-1551-46d9-95ff-8a1a2a4a3264",
   "metadata": {},
   "outputs": [],
   "source": []
  },
  {
   "cell_type": "markdown",
   "id": "062c85ac-9ffd-4d90-8296-46aaa227a0fe",
   "metadata": {},
   "source": [
    "#### 39. Create a vector of size 10 with values ranging from 0 to 1, both excluded (★★☆)\n",
    "`hint: np.linspace`"
   ]
  },
  {
   "cell_type": "code",
   "execution_count": null,
   "id": "8ce4d312-fd22-4b93-a960-44e6aaa86181",
   "metadata": {},
   "outputs": [],
   "source": []
  },
  {
   "cell_type": "markdown",
   "id": "90b9758f-8766-476b-8d49-0e4c792eaaa6",
   "metadata": {},
   "source": [
    "#### 40. Create a random vector of size 10 and sort it (★★☆)\n",
    "`hint: sort`"
   ]
  },
  {
   "cell_type": "code",
   "execution_count": null,
   "id": "e9ba43b1-0ac2-4715-bb90-2a8ede7764d0",
   "metadata": {},
   "outputs": [],
   "source": []
  },
  {
   "cell_type": "markdown",
   "id": "6b1d7c8d-fd8f-45f5-b78d-c0bba7de648b",
   "metadata": {},
   "source": [
    "#### 41. How to sum a small array faster than np.sum? (★★☆)\n",
    "`hint: np.add.reduce`"
   ]
  },
  {
   "cell_type": "code",
   "execution_count": null,
   "id": "376e0ae7-290c-489c-8867-862f01fd7145",
   "metadata": {},
   "outputs": [],
   "source": []
  },
  {
   "cell_type": "markdown",
   "id": "1acdc08b-17b0-4c24-9847-3ec3cc6f23ba",
   "metadata": {},
   "source": [
    "#### 42. Consider two random array A and B, check if they are equal (★★☆)\n",
    "`hint: np.allclose, np.array_equal`"
   ]
  },
  {
   "cell_type": "code",
   "execution_count": null,
   "id": "036c5789-494d-4836-9eba-d102291a30a2",
   "metadata": {},
   "outputs": [],
   "source": []
  },
  {
   "cell_type": "markdown",
   "id": "dcb6effa-2795-4d22-abc0-8fea7c629801",
   "metadata": {},
   "source": [
    "#### 43. Make an array immutable (read-only) (★★☆)\n",
    "`hint: flags.writeable`"
   ]
  },
  {
   "cell_type": "code",
   "execution_count": null,
   "id": "60322cd9-a3fd-4d84-9946-eae3d66d5847",
   "metadata": {},
   "outputs": [],
   "source": []
  },
  {
   "cell_type": "markdown",
   "id": "8c15e99d-fd70-4e1e-81bc-266b94967816",
   "metadata": {},
   "source": [
    "#### 44. Consider a random 10x2 matrix representing cartesian coordinates, convert them to polar coordinates (★★☆)\n",
    "`hint: np.sqrt, np.arctan2`"
   ]
  },
  {
   "cell_type": "code",
   "execution_count": null,
   "id": "45dea2f5-2732-4187-aace-e1ce4c4f2aa5",
   "metadata": {},
   "outputs": [],
   "source": []
  },
  {
   "cell_type": "markdown",
   "id": "e9c3dd1f-1a09-4d0a-af2a-287f0a9267f0",
   "metadata": {},
   "source": [
    "#### 45. Create random vector of size 10 and replace the maximum value by 0 (★★☆)\n",
    "`hint: argmax`"
   ]
  },
  {
   "cell_type": "code",
   "execution_count": null,
   "id": "45d29650-5e8e-43ec-81f0-fec78409a33b",
   "metadata": {},
   "outputs": [],
   "source": []
  },
  {
   "cell_type": "markdown",
   "id": "463bdabe-87b4-488b-87ff-be83d7b533fc",
   "metadata": {},
   "source": [
    "#### 46. Create a structured array with `x` and `y` coordinates covering the [0,1]x[0,1] area (★★☆)\n",
    "`hint: np.meshgrid`"
   ]
  },
  {
   "cell_type": "code",
   "execution_count": null,
   "id": "d53173fa-9db9-41a0-ad31-129e97b87f27",
   "metadata": {},
   "outputs": [],
   "source": []
  },
  {
   "cell_type": "markdown",
   "id": "60fea858-7e5e-4a05-a601-0654760ac2a8",
   "metadata": {},
   "source": [
    "#### 47. Given two arrays, X and Y, construct the Cauchy matrix C (Cij =1/(xi - yj)) (★★☆)\n",
    "`hint: np.subtract.outer`"
   ]
  },
  {
   "cell_type": "code",
   "execution_count": null,
   "id": "5c74a29d-c875-4be8-a7b7-9f0789dece99",
   "metadata": {},
   "outputs": [],
   "source": []
  },
  {
   "cell_type": "markdown",
   "id": "d28d1d59-1e80-4e23-9437-dd2eabad09bc",
   "metadata": {},
   "source": [
    "#### 48. Print the minimum and maximum representable value for each numpy scalar type (★★☆)\n",
    "`hint: np.iinfo, np.finfo, eps`"
   ]
  },
  {
   "cell_type": "code",
   "execution_count": null,
   "id": "356a30f8-2546-4610-aede-397df719713d",
   "metadata": {},
   "outputs": [],
   "source": []
  },
  {
   "cell_type": "markdown",
   "id": "b7911045-fc06-4589-bb63-dec9ca9b8be1",
   "metadata": {},
   "source": [
    "#### 49. How to print all the values of an array? (★★☆)\n",
    "`hint: np.set_printoptions`"
   ]
  },
  {
   "cell_type": "code",
   "execution_count": null,
   "id": "2398a2e7-c044-4004-bde5-d91b089e0ef1",
   "metadata": {},
   "outputs": [],
   "source": []
  },
  {
   "cell_type": "markdown",
   "id": "aa182ded-55df-41c6-bb12-ef3bc3fc12c1",
   "metadata": {},
   "source": [
    "#### 50. How to find the closest value (to a given scalar) in a vector? (★★☆)\n",
    "`hint: argmin`"
   ]
  },
  {
   "cell_type": "code",
   "execution_count": null,
   "id": "88a125de-542f-48eb-a671-9f29931dba92",
   "metadata": {},
   "outputs": [],
   "source": []
  },
  {
   "cell_type": "markdown",
   "id": "cd129812-4345-4186-9de9-f7ef50ce5a52",
   "metadata": {},
   "source": [
    "#### 51. Create a structured array representing a position (x,y) and a color (r,g,b) (★★☆)\n",
    "`hint: dtype`"
   ]
  },
  {
   "cell_type": "code",
   "execution_count": null,
   "id": "61d6c4e4-096b-48fa-adef-b42e2b6636d1",
   "metadata": {},
   "outputs": [],
   "source": []
  },
  {
   "cell_type": "markdown",
   "id": "810e2744-70a1-4435-af8c-b4b6a38f7212",
   "metadata": {},
   "source": [
    "#### 52. Consider a random vector with shape (100,2) representing coordinates, find point by point distances (★★☆)\n",
    "`hint: np.atleast_2d, T, np.sqrt`"
   ]
  },
  {
   "cell_type": "code",
   "execution_count": null,
   "id": "0976ea32-f6df-4a87-aa04-22f1e33e215b",
   "metadata": {},
   "outputs": [],
   "source": []
  },
  {
   "cell_type": "markdown",
   "id": "f5cefceb-8e24-4ab2-bbc7-da3312b0051b",
   "metadata": {},
   "source": [
    "#### 53. How to convert a float (32 bits) array into an integer (32 bits) in place?\n",
    "`hint: view and [:] =`"
   ]
  },
  {
   "cell_type": "code",
   "execution_count": null,
   "id": "b891996f-653a-42ed-8ec2-341e7c8f5918",
   "metadata": {},
   "outputs": [],
   "source": []
  },
  {
   "cell_type": "markdown",
   "id": "ded05935-16eb-4cc7-9d0c-2b31af668aae",
   "metadata": {},
   "source": [
    "#### 54. How to read the following file? (★★☆)\n",
    "```\n",
    "1, 2, 3, 4, 5\n",
    "6,  ,  , 7, 8\n",
    " ,  , 9,10,11\n",
    "```\n",
    "`hint: np.genfromtxt`"
   ]
  },
  {
   "cell_type": "code",
   "execution_count": null,
   "id": "b61221ba-481f-49f4-994a-94741dcb42c9",
   "metadata": {},
   "outputs": [],
   "source": []
  },
  {
   "cell_type": "markdown",
   "id": "1af55182-8a82-4815-b3e8-f95e1bed1752",
   "metadata": {},
   "source": [
    "#### 55. What is the equivalent of enumerate for numpy arrays? (★★☆)\n",
    "`hint: np.ndenumerate, np.ndindex`"
   ]
  },
  {
   "cell_type": "code",
   "execution_count": null,
   "id": "e06f1c0a-e590-42c7-9fa0-e460cad5d7ef",
   "metadata": {},
   "outputs": [],
   "source": []
  },
  {
   "cell_type": "markdown",
   "id": "76c938f1-07e2-4055-b1a1-ac8962808faa",
   "metadata": {},
   "source": [
    "#### 56. Generate a generic 2D Gaussian-like array (★★☆)\n",
    "`hint: np.meshgrid, np.exp`"
   ]
  },
  {
   "cell_type": "code",
   "execution_count": null,
   "id": "27a5dad0-4065-42ed-bac8-c8fc8a6c4f6a",
   "metadata": {},
   "outputs": [],
   "source": []
  },
  {
   "cell_type": "markdown",
   "id": "f2ec1099-3615-46ce-a885-663eaab10bf2",
   "metadata": {},
   "source": [
    "#### 57. How to randomly place p elements in a 2D array? (★★☆)\n",
    "`hint: np.put, np.random.choice`"
   ]
  },
  {
   "cell_type": "code",
   "execution_count": null,
   "id": "31d5c128-7503-4f88-990d-3c75797d00a1",
   "metadata": {},
   "outputs": [],
   "source": []
  },
  {
   "cell_type": "markdown",
   "id": "107d7ca8-cad9-4481-abf6-041d01c5cf88",
   "metadata": {},
   "source": [
    "#### 58. Subtract the mean of each row of a matrix (★★☆)\n",
    "`hint: mean(axis=,keepdims=)`"
   ]
  },
  {
   "cell_type": "code",
   "execution_count": null,
   "id": "354a4d0b-74b3-4b1b-864d-9d3357565832",
   "metadata": {},
   "outputs": [],
   "source": []
  },
  {
   "cell_type": "markdown",
   "id": "c0bad4d6-ffa6-4058-81aa-dc588a53198e",
   "metadata": {},
   "source": [
    "#### 59. How to sort an array by the nth column? (★★☆)\n",
    "`hint: argsort`"
   ]
  },
  {
   "cell_type": "code",
   "execution_count": null,
   "id": "21c4709a-9ba9-41f9-b6cd-4524b69a1140",
   "metadata": {},
   "outputs": [],
   "source": []
  },
  {
   "cell_type": "markdown",
   "id": "2bb766e0-da93-4b62-9d46-004c43804cef",
   "metadata": {},
   "source": [
    "#### 60. How to tell if a given 2D array has null columns? (★★☆)\n",
    "`hint: any, ~`"
   ]
  },
  {
   "cell_type": "code",
   "execution_count": null,
   "id": "5da02ffa-e6ae-4824-990b-76dae2942f65",
   "metadata": {},
   "outputs": [],
   "source": []
  },
  {
   "cell_type": "markdown",
   "id": "4062ee28-9e48-47fd-89ab-7a7923ceeab5",
   "metadata": {},
   "source": [
    "#### 61. Find the nearest value from a given value in an array (★★☆)\n",
    "`hint: np.abs, argmin, flat`"
   ]
  },
  {
   "cell_type": "code",
   "execution_count": null,
   "id": "6b73862e-a51b-4af0-b637-ffb5051dc9f5",
   "metadata": {},
   "outputs": [],
   "source": []
  },
  {
   "cell_type": "markdown",
   "id": "c197b89f-166c-43e6-9684-dadf541ef242",
   "metadata": {},
   "source": [
    "#### 62. Considering two arrays with shape (1,3) and (3,1), how to compute their sum using an iterator? (★★☆)\n",
    "`hint: np.nditer`"
   ]
  },
  {
   "cell_type": "code",
   "execution_count": null,
   "id": "4f656ccb-a772-48cb-801f-03a5afc25cca",
   "metadata": {},
   "outputs": [],
   "source": []
  },
  {
   "cell_type": "markdown",
   "id": "d4c4e357-8a2d-413a-8705-f92898f2c16c",
   "metadata": {},
   "source": [
    "#### 63. Create an array class that has a name attribute (★★☆)\n",
    "`hint: class method`"
   ]
  },
  {
   "cell_type": "code",
   "execution_count": null,
   "id": "7eeabc6f-c2ff-41ab-84da-52a833c035cd",
   "metadata": {},
   "outputs": [],
   "source": []
  },
  {
   "cell_type": "markdown",
   "id": "5f0c57e9-f5f9-4880-9b76-aad9b95a6c18",
   "metadata": {},
   "source": [
    "#### 64. Consider a given vector, how to add 1 to each element indexed by a second vector (be careful with repeated indices)? (★★★)\n",
    "`hint: np.bincount | np.add.at`"
   ]
  },
  {
   "cell_type": "code",
   "execution_count": null,
   "id": "0c09d01c-ba90-4529-a598-76028f8e67ea",
   "metadata": {},
   "outputs": [],
   "source": []
  },
  {
   "cell_type": "markdown",
   "id": "9d4a1a4e-c3f3-47e1-899f-b2a13d281ec2",
   "metadata": {},
   "source": [
    "#### 65. How to accumulate elements of a vector (X) to an array (F) based on an index list (I)? (★★★)\n",
    "`hint: np.bincount`"
   ]
  },
  {
   "cell_type": "code",
   "execution_count": null,
   "id": "0083b151-9021-4f1b-9bb7-dddb0ba32e1a",
   "metadata": {},
   "outputs": [],
   "source": []
  },
  {
   "cell_type": "markdown",
   "id": "c0e40773-19a9-44b9-bca3-e0e025249dfd",
   "metadata": {},
   "source": [
    "#### 66. Considering a (w,h,3) image of (dtype=ubyte), compute the number of unique colors (★★☆)\n",
    "`hint: np.unique`"
   ]
  },
  {
   "cell_type": "code",
   "execution_count": null,
   "id": "80a03d4a-703b-41f2-bfa3-711726b0bcac",
   "metadata": {},
   "outputs": [],
   "source": []
  },
  {
   "cell_type": "markdown",
   "id": "b803df89-39a2-4839-b865-72b33f404e90",
   "metadata": {},
   "source": [
    "#### 67. Considering a four dimensions array, how to get sum over the last two axis at once? (★★★)\n",
    "`hint: sum(axis=(-2,-1))`"
   ]
  },
  {
   "cell_type": "code",
   "execution_count": null,
   "id": "2929924b-5385-48cd-9fcb-a8aa769a4988",
   "metadata": {},
   "outputs": [],
   "source": []
  },
  {
   "cell_type": "markdown",
   "id": "4bfbaa7d-65e7-4d84-a0b2-d537b6860b44",
   "metadata": {},
   "source": [
    "#### 68. Considering a one-dimensional vector D, how to compute means of subsets of D using a vector S of same size describing subset  indices? (★★★)\n",
    "`hint: np.bincount`"
   ]
  },
  {
   "cell_type": "code",
   "execution_count": null,
   "id": "826e12f2-5e85-43c0-9609-5ec754c5eb52",
   "metadata": {},
   "outputs": [],
   "source": []
  },
  {
   "cell_type": "markdown",
   "id": "3ac402ce-cf8f-4fb3-a86f-3719920a1a6e",
   "metadata": {},
   "source": [
    "#### 69. How to get the diagonal of a dot product? (★★★)\n",
    "`hint: np.diag`"
   ]
  },
  {
   "cell_type": "code",
   "execution_count": null,
   "id": "0466529c-6d94-46f5-979b-0b86a6332f45",
   "metadata": {},
   "outputs": [],
   "source": []
  },
  {
   "cell_type": "markdown",
   "id": "366ff9fd-5bfb-4fcf-860d-69834848eacc",
   "metadata": {},
   "source": [
    "#### 70. Consider the vector [1, 2, 3, 4, 5], how to build a new vector with 3 consecutive zeros interleaved between each value? (★★★)\n",
    "`hint: array[::4]`"
   ]
  },
  {
   "cell_type": "code",
   "execution_count": null,
   "id": "a720b8ff-0685-4cb5-87e6-0cf977c4dae0",
   "metadata": {},
   "outputs": [],
   "source": []
  },
  {
   "cell_type": "markdown",
   "id": "d5a91bca-b6c6-41b3-b95f-e643471f9183",
   "metadata": {},
   "source": [
    "#### 71. Consider an array of dimension (5,5,3), how to mulitply it by an array with dimensions (5,5)? (★★★)\n",
    "`hint: array[:, :, None]`"
   ]
  },
  {
   "cell_type": "code",
   "execution_count": null,
   "id": "6ba1e241-143a-4e70-9a72-2b48a1e666b1",
   "metadata": {},
   "outputs": [],
   "source": []
  },
  {
   "cell_type": "markdown",
   "id": "b162ed6c-7045-44a4-816e-a9873883b460",
   "metadata": {},
   "source": [
    "#### 72. How to swap two rows of an array? (★★★)\n",
    "`hint: array[[]] = array[[]]`"
   ]
  },
  {
   "cell_type": "code",
   "execution_count": null,
   "id": "377ccb35-8b23-4197-8a01-3727e340b85a",
   "metadata": {},
   "outputs": [],
   "source": []
  },
  {
   "cell_type": "markdown",
   "id": "3008ca7f-f253-47ee-89e5-2d7384e9da10",
   "metadata": {},
   "source": [
    "#### 73. Consider a set of 10 triplets describing 10 triangles (with shared vertices), find the set of unique line segments composing all the  triangles (★★★)\n",
    "`hint: repeat, np.roll, np.sort, view, np.unique`"
   ]
  },
  {
   "cell_type": "code",
   "execution_count": null,
   "id": "5806b5ea-6eb0-4cab-96db-d1bcab988410",
   "metadata": {},
   "outputs": [],
   "source": []
  },
  {
   "cell_type": "markdown",
   "id": "388ecda3-d487-4d40-921e-86a398bfb5db",
   "metadata": {},
   "source": [
    "#### 74. Given a sorted array C that corresponds to a bincount, how to produce an array A such that np.bincount(A) == C? (★★★)\n",
    "`hint: np.repeat`"
   ]
  },
  {
   "cell_type": "code",
   "execution_count": null,
   "id": "3b4103e1-7723-485e-a82b-ce91ee937af6",
   "metadata": {},
   "outputs": [],
   "source": []
  },
  {
   "cell_type": "markdown",
   "id": "f10beb30-3bde-4d28-900a-7048a3b70282",
   "metadata": {},
   "source": [
    "#### 75. How to compute averages using a sliding window over an array? (★★★)\n",
    "`hint: np.cumsum`"
   ]
  },
  {
   "cell_type": "code",
   "execution_count": null,
   "id": "a7369967-d380-4be8-95af-83ee28c00c34",
   "metadata": {},
   "outputs": [],
   "source": []
  },
  {
   "cell_type": "markdown",
   "id": "54279443-1032-4b8f-96de-2108484955eb",
   "metadata": {},
   "source": [
    "#### 76. Consider a one-dimensional array Z, build a two-dimensional array whose first row is (Z[0],Z[1],Z[2]) and each subsequent row is  shifted by 1 (last row should be (Z[-3],Z[-2],Z[-1]) (★★★)\n",
    "`hint: from numpy.lib import stride_tricks`"
   ]
  },
  {
   "cell_type": "code",
   "execution_count": null,
   "id": "dbb9ed7f-027e-47b4-b32d-8f8f03113e6a",
   "metadata": {},
   "outputs": [],
   "source": []
  },
  {
   "cell_type": "markdown",
   "id": "b0687787-ad7b-43d9-8618-dda75615e5e2",
   "metadata": {},
   "source": [
    "#### 77. How to negate a boolean, or to change the sign of a float inplace? (★★★)\n",
    "`hint: np.logical_not, np.negative`"
   ]
  },
  {
   "cell_type": "code",
   "execution_count": null,
   "id": "f0f97ec5-76a0-4ec0-95ca-7878bbaab3ea",
   "metadata": {},
   "outputs": [],
   "source": []
  },
  {
   "cell_type": "markdown",
   "id": "12dd2408-a931-406c-8f35-454099354b1b",
   "metadata": {},
   "source": [
    "#### 78. Consider 2 sets of points P0,P1 describing lines (2d) and a point p, how to compute distance from p to each line i (P0[i],P1[i])? (★★★)\n",
    "`No hints provided...`"
   ]
  },
  {
   "cell_type": "code",
   "execution_count": null,
   "id": "4cd258db-de47-4c85-b6ce-c80b0783171b",
   "metadata": {},
   "outputs": [],
   "source": []
  },
  {
   "cell_type": "markdown",
   "id": "e7dfc524-ee09-4995-8310-2132433126f2",
   "metadata": {},
   "source": [
    "#### 79. Consider 2 sets of points P0,P1 describing lines (2d) and a set of points P, how to compute distance from each point j (P[j]) to each line i (P0[i],P1[i])? (★★★)\n",
    "`No hints provided...`"
   ]
  },
  {
   "cell_type": "code",
   "execution_count": null,
   "id": "e4ec46ba-c005-4a92-b38e-8b17571c94d3",
   "metadata": {},
   "outputs": [],
   "source": []
  },
  {
   "cell_type": "markdown",
   "id": "36a7e1d8-935d-4ca5-bad1-af7a44b3a8e9",
   "metadata": {},
   "source": [
    "#### 80. Consider an arbitrary array, write a function that extract a subpart with a fixed shape and centered on a given element (pad with a `fill` value when necessary) (★★★)\n",
    "`hint: minimum maximum`"
   ]
  },
  {
   "cell_type": "code",
   "execution_count": null,
   "id": "9e3729ef-e475-46f6-b0df-c826234e28c4",
   "metadata": {},
   "outputs": [],
   "source": []
  },
  {
   "cell_type": "markdown",
   "id": "c8827d74-9f3c-492a-bfb3-b98cf88edbaa",
   "metadata": {},
   "source": [
    "#### 81. Consider an array Z = [1,2,3,4,5,6,7,8,9,10,11,12,13,14], how to generate an array R = [[1,2,3,4], [2,3,4,5], [3,4,5,6], ..., [11,12,13,14]]? (★★★)\n",
    "`hint: stride_tricks.as_strided`"
   ]
  },
  {
   "cell_type": "code",
   "execution_count": null,
   "id": "9e9511ef-27d7-4588-b4e8-a34ca0e99862",
   "metadata": {},
   "outputs": [],
   "source": []
  },
  {
   "cell_type": "markdown",
   "id": "5ab47d12-00a0-41d3-8bdc-ba1ab627b762",
   "metadata": {},
   "source": [
    "#### 82. Compute a matrix rank (★★★)\n",
    "`hint: np.linalg.svd`"
   ]
  },
  {
   "cell_type": "code",
   "execution_count": null,
   "id": "34a54c00-2244-4c7a-9f37-1da9a607f2e8",
   "metadata": {},
   "outputs": [],
   "source": []
  },
  {
   "cell_type": "markdown",
   "id": "73c06ff5-4b78-4f16-8d11-9e6f1693c97d",
   "metadata": {},
   "source": [
    "#### 83. How to find the most frequent value in an array?\n",
    "`hint: np.bincount, argmax`"
   ]
  },
  {
   "cell_type": "code",
   "execution_count": null,
   "id": "159a053f-8db2-46f7-8ffa-eb1e24fdd92e",
   "metadata": {},
   "outputs": [],
   "source": []
  },
  {
   "cell_type": "markdown",
   "id": "691e3519-f524-4138-9376-f6c87ded1a5c",
   "metadata": {},
   "source": [
    "#### 84. Extract all the contiguous 3x3 blocks from a random 10x10 matrix (★★★)\n",
    "`hint: stride_tricks.as_strided`"
   ]
  },
  {
   "cell_type": "code",
   "execution_count": null,
   "id": "80ba7c51-67c0-4999-b4a4-dfc2f11e9c2d",
   "metadata": {},
   "outputs": [],
   "source": []
  },
  {
   "cell_type": "markdown",
   "id": "e7f89c33-e230-441d-b494-4bc419bce69e",
   "metadata": {},
   "source": [
    "#### 85. Create a 2D array subclass such that Z[i,j] == Z[j,i] (★★★)\n",
    "`hint: class method`"
   ]
  },
  {
   "cell_type": "code",
   "execution_count": null,
   "id": "bc4a7526-56e5-4859-b75d-c559685fc9a5",
   "metadata": {},
   "outputs": [],
   "source": []
  },
  {
   "cell_type": "markdown",
   "id": "6dcae064-72d8-4ae5-8f7c-694f41ec1192",
   "metadata": {},
   "source": [
    "#### 86. Consider a set of p matrices wich shape (n,n) and a set of p vectors with shape (n,1). How to compute the sum of of the p matrix products at once? (result has shape (n,1)) (★★★)\n",
    "`hint: np.tensordot`"
   ]
  },
  {
   "cell_type": "code",
   "execution_count": null,
   "id": "db053a9d-788a-4fe6-b815-6463eb0759c2",
   "metadata": {},
   "outputs": [],
   "source": []
  },
  {
   "cell_type": "markdown",
   "id": "90dfb2a5-4f5e-4c17-804e-d2c05ba2a2bb",
   "metadata": {},
   "source": [
    "#### 87. Consider a 16x16 array, how to get the block-sum (block size is 4x4)? (★★★)\n",
    "`hint: np.add.reduceat`"
   ]
  },
  {
   "cell_type": "code",
   "execution_count": null,
   "id": "11a9bc31-c138-4cbd-bdd7-abb3186a55c2",
   "metadata": {},
   "outputs": [],
   "source": []
  },
  {
   "cell_type": "markdown",
   "id": "9893ba03-c2fe-43ed-9a88-b56bb054962c",
   "metadata": {},
   "source": [
    "#### 88. How to implement the Game of Life using numpy arrays? (★★★)\n",
    "`No hints provided...`"
   ]
  },
  {
   "cell_type": "code",
   "execution_count": null,
   "id": "712b8cd7-4302-4998-9635-255cd40afa83",
   "metadata": {},
   "outputs": [],
   "source": []
  },
  {
   "cell_type": "markdown",
   "id": "2e2cb00b-2b92-4f8d-9386-e3a1dba86b43",
   "metadata": {},
   "source": [
    "#### 89. How to get the n largest values of an array (★★★)\n",
    "`hint: np.argsort | np.argpartition`"
   ]
  },
  {
   "cell_type": "code",
   "execution_count": null,
   "id": "c51bfff1-1998-4d5a-b5c7-c73077bd6b9c",
   "metadata": {},
   "outputs": [],
   "source": []
  },
  {
   "cell_type": "markdown",
   "id": "0724457b-8f6d-47ab-bc08-df664e39215e",
   "metadata": {},
   "source": [
    "#### 90. Given an arbitrary number of vectors, build the cartesian product (every combinations of every item) (★★★)\n",
    "`hint: np.indices`"
   ]
  },
  {
   "cell_type": "code",
   "execution_count": null,
   "id": "a893572f-7cf8-4ddb-a52b-21fead2d80c5",
   "metadata": {},
   "outputs": [],
   "source": []
  },
  {
   "cell_type": "markdown",
   "id": "390f0625-cd19-4ffc-9ba0-652009943d29",
   "metadata": {},
   "source": [
    "#### 91. How to create a record array from a regular array? (★★★)\n",
    "`hint: np.core.records.fromarrays`"
   ]
  },
  {
   "cell_type": "code",
   "execution_count": null,
   "id": "2a5f96e7-e0a6-483c-afbc-5d9f6ea05b4b",
   "metadata": {},
   "outputs": [],
   "source": []
  },
  {
   "cell_type": "markdown",
   "id": "d4ff458d-704d-4856-9a56-c0c43c709c87",
   "metadata": {},
   "source": [
    "#### 92. Consider a large vector Z, compute Z to the power of 3 using 3 different methods (★★★)\n",
    "`hint: np.power, *, np.einsum`"
   ]
  },
  {
   "cell_type": "code",
   "execution_count": null,
   "id": "24017a99-9daa-47eb-a173-9aca7416e329",
   "metadata": {},
   "outputs": [],
   "source": []
  },
  {
   "cell_type": "markdown",
   "id": "e030841e-82ff-4d1e-99e2-16a97bfd43fa",
   "metadata": {},
   "source": [
    "#### 93. Consider two arrays A and B of shape (8,3) and (2,2). How to find rows of A that contain elements of each row of B regardless of the order of the elements in B? (★★★)\n",
    "`hint: np.where`"
   ]
  },
  {
   "cell_type": "code",
   "execution_count": null,
   "id": "895c4026-c4fa-4bfd-b70b-cb7fc6aeb936",
   "metadata": {},
   "outputs": [],
   "source": []
  },
  {
   "cell_type": "markdown",
   "id": "b526f983-2d19-4051-8430-dcaeedd901d9",
   "metadata": {},
   "source": [
    "#### 94. Considering a 10x3 matrix, extract rows with unequal values (e.g. [2,2,3]) (★★★)\n",
    "`No hints provided...`"
   ]
  },
  {
   "cell_type": "code",
   "execution_count": null,
   "id": "2040768f-602a-453a-9691-2e166d36e10b",
   "metadata": {},
   "outputs": [],
   "source": []
  },
  {
   "cell_type": "markdown",
   "id": "50a5096c-204e-4740-9886-20d6a7b83d0d",
   "metadata": {},
   "source": [
    "#### 95. Convert a vector of ints into a matrix binary representation (★★★)\n",
    "`hint: np.unpackbits`"
   ]
  },
  {
   "cell_type": "code",
   "execution_count": null,
   "id": "6153ab59-7aea-49e8-95e6-99c055ee1be8",
   "metadata": {},
   "outputs": [],
   "source": []
  },
  {
   "cell_type": "markdown",
   "id": "79b8a78e-ae53-4d1b-935e-2824bd8dc915",
   "metadata": {},
   "source": [
    "#### 96. Given a two dimensional array, how to extract unique rows? (★★★)\n",
    "`hint: np.ascontiguousarray | np.unique`"
   ]
  },
  {
   "cell_type": "code",
   "execution_count": null,
   "id": "b33b3500-f781-491e-8287-e6f88a736a3a",
   "metadata": {},
   "outputs": [],
   "source": []
  },
  {
   "cell_type": "markdown",
   "id": "d0372dbc-465f-4a7d-825a-fdd0ac26746d",
   "metadata": {},
   "source": [
    "#### 97. Considering 2 vectors A & B, write the einsum equivalent of inner, outer, sum, and mul function (★★★)\n",
    "`hint: np.einsum`"
   ]
  },
  {
   "cell_type": "code",
   "execution_count": null,
   "id": "221b6c4a-fffb-4dde-af39-7d9682d16e66",
   "metadata": {},
   "outputs": [],
   "source": []
  },
  {
   "cell_type": "markdown",
   "id": "82bd26e8-c15b-4182-8e84-b2c2f05d9193",
   "metadata": {},
   "source": [
    "#### 98. Considering a path described by two vectors (X,Y), how to sample it using equidistant samples (★★★)?\n",
    "`hint: np.cumsum, np.interp`"
   ]
  },
  {
   "cell_type": "code",
   "execution_count": null,
   "id": "5e224edc-1eda-4b9d-a6c2-6c3348d0a316",
   "metadata": {},
   "outputs": [],
   "source": []
  },
  {
   "cell_type": "markdown",
   "id": "c28a6235-73ce-46a1-84b3-da60ca62703d",
   "metadata": {},
   "source": [
    "#### 99. Given an integer n and a 2D array X, select from X the rows which can be interpreted as draws from a multinomial distribution with n degrees, i.e., the rows which only contain integers and which sum to n. (★★★)\n",
    "`hint: np.logical_and.reduce, np.mod`"
   ]
  },
  {
   "cell_type": "code",
   "execution_count": null,
   "id": "2858129a-7877-482f-8502-3c867c553d0e",
   "metadata": {},
   "outputs": [],
   "source": []
  },
  {
   "cell_type": "markdown",
   "id": "edd2a363-c615-4d13-9d60-6e232aa6880c",
   "metadata": {},
   "source": [
    "#### 100. Compute bootstrapped 95% confidence intervals for the mean of a 1D array X (i.e., resample the elements of an array with replacement N times, compute the mean of each sample, and then compute percentiles over the means). (★★★)\n",
    "`hint: np.percentile`"
   ]
  },
  {
   "cell_type": "code",
   "execution_count": null,
   "id": "c0381344-9bee-4aef-a36c-ebcea4aaf5b5",
   "metadata": {},
   "outputs": [],
   "source": []
  },
  {
   "cell_type": "code",
   "execution_count": null,
   "id": "8cb077c6-251a-4c06-b1c3-2e7545eb6b87",
   "metadata": {},
   "outputs": [],
   "source": []
  },
  {
   "cell_type": "code",
   "execution_count": null,
   "id": "3e099c8f-26b1-4a61-9860-30f6a78a9b22",
   "metadata": {},
   "outputs": [],
   "source": []
  }
 ],
 "metadata": {
  "kernelspec": {
   "display_name": "Python 3 (ipykernel)",
   "language": "python",
   "name": "python3"
  },
  "language_info": {
   "codemirror_mode": {
    "name": "ipython",
    "version": 3
   },
   "file_extension": ".py",
   "mimetype": "text/x-python",
   "name": "python",
   "nbconvert_exporter": "python",
   "pygments_lexer": "ipython3",
   "version": "3.8.12"
  }
 },
 "nbformat": 4,
 "nbformat_minor": 5
}
