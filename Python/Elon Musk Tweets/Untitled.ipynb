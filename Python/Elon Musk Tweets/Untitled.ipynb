{
 "cells": [
  {
   "cell_type": "code",
   "execution_count": 18,
   "id": "42a29b46",
   "metadata": {},
   "outputs": [],
   "source": [
    "import pandas as pd\n",
    "import numpy as np"
   ]
  },
  {
   "cell_type": "code",
   "execution_count": 19,
   "id": "779c1598",
   "metadata": {},
   "outputs": [],
   "source": [
    "import glob, os    \n",
    "df = pd.concat(map(pd.read_csv, glob.glob(os.path.join('/Users/apple/Downloads/archive', \"*.csv\"))))"
   ]
  },
  {
   "cell_type": "code",
   "execution_count": 20,
   "id": "0696ba2f",
   "metadata": {},
   "outputs": [
    {
     "name": "stdout",
     "output_type": "stream",
     "text": [
      "<class 'pandas.core.frame.DataFrame'>\n",
      "Int64Index: 34878 entries, 0 to 26\n",
      "Data columns (total 44 columns):\n",
      " #   Column           Non-Null Count  Dtype  \n",
      "---  ------           --------------  -----  \n",
      " 0   Unnamed: 0       30735 non-null  float64\n",
      " 1   id               34878 non-null  int64  \n",
      " 2   conversation_id  34878 non-null  int64  \n",
      " 3   created_at       34878 non-null  object \n",
      " 4   date             34878 non-null  object \n",
      " 5   timezone         34878 non-null  int64  \n",
      " 6   place            0 non-null      float64\n",
      " 7   tweet            34878 non-null  object \n",
      " 8   language         34878 non-null  object \n",
      " 9   hashtags         34878 non-null  object \n",
      " 10  cashtags         34878 non-null  object \n",
      " 11  user_id          34878 non-null  int64  \n",
      " 12  user_id_str      30735 non-null  float64\n",
      " 13  username         34878 non-null  object \n",
      " 14  name             34878 non-null  object \n",
      " 15  day              30735 non-null  float64\n",
      " 16  hour             30735 non-null  float64\n",
      " 17  link             34878 non-null  object \n",
      " 18  urls             34878 non-null  object \n",
      " 19  photos           34878 non-null  object \n",
      " 20  video            34878 non-null  int64  \n",
      " 21  thumbnail        2332 non-null   object \n",
      " 22  retweet          34878 non-null  bool   \n",
      " 23  nlikes           30735 non-null  float64\n",
      " 24  nreplies         30735 non-null  float64\n",
      " 25  nretweets        30735 non-null  float64\n",
      " 26  quote_url        1041 non-null   object \n",
      " 27  search           30735 non-null  object \n",
      " 28  near             0 non-null      float64\n",
      " 29  geo              0 non-null      float64\n",
      " 30  source           0 non-null      float64\n",
      " 31  user_rt_id       0 non-null      float64\n",
      " 32  user_rt          0 non-null      float64\n",
      " 33  retweet_id       0 non-null      float64\n",
      " 34  reply_to         34878 non-null  object \n",
      " 35  retweet_date     0 non-null      float64\n",
      " 36  translate        0 non-null      float64\n",
      " 37  trans_src        0 non-null      float64\n",
      " 38  trans_dest       0 non-null      float64\n",
      " 39  time             4143 non-null   object \n",
      " 40  mentions         4143 non-null   object \n",
      " 41  replies_count    4143 non-null   float64\n",
      " 42  retweets_count   4143 non-null   float64\n",
      " 43  likes_count      4143 non-null   float64\n",
      "dtypes: bool(1), float64(21), int64(5), object(17)\n",
      "memory usage: 11.7+ MB\n"
     ]
    }
   ],
   "source": [
    "df.info()"
   ]
  },
  {
   "cell_type": "code",
   "execution_count": 32,
   "id": "2a8c9aad",
   "metadata": {},
   "outputs": [
    {
     "data": {
      "text/html": [
       "<div>\n",
       "<style scoped>\n",
       "    .dataframe tbody tr th:only-of-type {\n",
       "        vertical-align: middle;\n",
       "    }\n",
       "\n",
       "    .dataframe tbody tr th {\n",
       "        vertical-align: top;\n",
       "    }\n",
       "\n",
       "    .dataframe thead th {\n",
       "        text-align: right;\n",
       "    }\n",
       "</style>\n",
       "<table border=\"1\" class=\"dataframe\">\n",
       "  <thead>\n",
       "    <tr style=\"text-align: right;\">\n",
       "      <th></th>\n",
       "      <th>Unnamed: 0</th>\n",
       "      <th>id</th>\n",
       "      <th>conversation_id</th>\n",
       "      <th>created_at</th>\n",
       "      <th>date</th>\n",
       "      <th>tweet</th>\n",
       "      <th>hashtags</th>\n",
       "      <th>cashtags</th>\n",
       "      <th>user_id</th>\n",
       "      <th>user_id_str</th>\n",
       "      <th>...</th>\n",
       "      <th>link</th>\n",
       "      <th>urls</th>\n",
       "      <th>photos</th>\n",
       "      <th>video</th>\n",
       "      <th>retweet</th>\n",
       "      <th>nlikes</th>\n",
       "      <th>nreplies</th>\n",
       "      <th>nretweets</th>\n",
       "      <th>search</th>\n",
       "      <th>reply_to</th>\n",
       "    </tr>\n",
       "  </thead>\n",
       "  <tbody>\n",
       "    <tr>\n",
       "      <th>0</th>\n",
       "      <td>0.0</td>\n",
       "      <td>1343644462036086785</td>\n",
       "      <td>1343320495127633920</td>\n",
       "      <td>1609184778000.0</td>\n",
       "      <td>2020-12-28 19:46:18</td>\n",
       "      <td>Entertainment will be critical when cars drive...</td>\n",
       "      <td>[]</td>\n",
       "      <td>[]</td>\n",
       "      <td>44196397</td>\n",
       "      <td>44196397.0</td>\n",
       "      <td>...</td>\n",
       "      <td>https://twitter.com/elonmusk/status/1343644462...</td>\n",
       "      <td>[]</td>\n",
       "      <td>[]</td>\n",
       "      <td>0</td>\n",
       "      <td>False</td>\n",
       "      <td>55085.0</td>\n",
       "      <td>2922.0</td>\n",
       "      <td>2611.0</td>\n",
       "      <td>None</td>\n",
       "      <td>[]</td>\n",
       "    </tr>\n",
       "    <tr>\n",
       "      <th>1</th>\n",
       "      <td>1.0</td>\n",
       "      <td>1343619610617077760</td>\n",
       "      <td>1343386617294295040</td>\n",
       "      <td>1609178853000.0</td>\n",
       "      <td>2020-12-28 18:07:33</td>\n",
       "      <td>@kimpaquette Just meeting with Larry Ellison t...</td>\n",
       "      <td>[]</td>\n",
       "      <td>[]</td>\n",
       "      <td>44196397</td>\n",
       "      <td>44196397.0</td>\n",
       "      <td>...</td>\n",
       "      <td>https://twitter.com/elonmusk/status/1343619610...</td>\n",
       "      <td>[]</td>\n",
       "      <td>[]</td>\n",
       "      <td>0</td>\n",
       "      <td>False</td>\n",
       "      <td>8631.0</td>\n",
       "      <td>601.0</td>\n",
       "      <td>314.0</td>\n",
       "      <td>None</td>\n",
       "      <td>[{'screen_name': 'kimpaquette', 'name': 'Kim P...</td>\n",
       "    </tr>\n",
       "    <tr>\n",
       "      <th>2</th>\n",
       "      <td>2.0</td>\n",
       "      <td>1343608616960491521</td>\n",
       "      <td>1343576442722893825</td>\n",
       "      <td>1609176231000.0</td>\n",
       "      <td>2020-12-28 17:23:51</td>\n",
       "      <td>@richierichhhhh_ Absolutely</td>\n",
       "      <td>[]</td>\n",
       "      <td>[]</td>\n",
       "      <td>44196397</td>\n",
       "      <td>44196397.0</td>\n",
       "      <td>...</td>\n",
       "      <td>https://twitter.com/elonmusk/status/1343608616...</td>\n",
       "      <td>[]</td>\n",
       "      <td>[]</td>\n",
       "      <td>0</td>\n",
       "      <td>False</td>\n",
       "      <td>72434.0</td>\n",
       "      <td>495.0</td>\n",
       "      <td>907.0</td>\n",
       "      <td>None</td>\n",
       "      <td>[{'screen_name': 'richierichhhhh_', 'name': 'R...</td>\n",
       "    </tr>\n",
       "    <tr>\n",
       "      <th>3</th>\n",
       "      <td>3.0</td>\n",
       "      <td>1343608530998153222</td>\n",
       "      <td>1343320495127633920</td>\n",
       "      <td>1609176211000.0</td>\n",
       "      <td>2020-12-28 17:23:31</td>\n",
       "      <td>What should Tesla do with in-car gaming in an ...</td>\n",
       "      <td>[]</td>\n",
       "      <td>[]</td>\n",
       "      <td>44196397</td>\n",
       "      <td>44196397.0</td>\n",
       "      <td>...</td>\n",
       "      <td>https://twitter.com/elonmusk/status/1343608530...</td>\n",
       "      <td>[]</td>\n",
       "      <td>[]</td>\n",
       "      <td>0</td>\n",
       "      <td>False</td>\n",
       "      <td>33830.0</td>\n",
       "      <td>6932.0</td>\n",
       "      <td>884.0</td>\n",
       "      <td>None</td>\n",
       "      <td>[]</td>\n",
       "    </tr>\n",
       "    <tr>\n",
       "      <th>4</th>\n",
       "      <td>4.0</td>\n",
       "      <td>1343431408052662273</td>\n",
       "      <td>1343043963096326147</td>\n",
       "      <td>1609133982000.0</td>\n",
       "      <td>2020-12-28 05:39:42</td>\n",
       "      <td>@PPathole @WSJ Absolutely</td>\n",
       "      <td>[]</td>\n",
       "      <td>[]</td>\n",
       "      <td>44196397</td>\n",
       "      <td>44196397.0</td>\n",
       "      <td>...</td>\n",
       "      <td>https://twitter.com/elonmusk/status/1343431408...</td>\n",
       "      <td>[]</td>\n",
       "      <td>[]</td>\n",
       "      <td>0</td>\n",
       "      <td>False</td>\n",
       "      <td>2394.0</td>\n",
       "      <td>131.0</td>\n",
       "      <td>92.0</td>\n",
       "      <td>None</td>\n",
       "      <td>[{'screen_name': 'PPathole', 'name': 'Pranay P...</td>\n",
       "    </tr>\n",
       "  </tbody>\n",
       "</table>\n",
       "<p>5 rows × 24 columns</p>\n",
       "</div>"
      ],
      "text/plain": [
       "   Unnamed: 0                   id      conversation_id       created_at  \\\n",
       "0         0.0  1343644462036086785  1343320495127633920  1609184778000.0   \n",
       "1         1.0  1343619610617077760  1343386617294295040  1609178853000.0   \n",
       "2         2.0  1343608616960491521  1343576442722893825  1609176231000.0   \n",
       "3         3.0  1343608530998153222  1343320495127633920  1609176211000.0   \n",
       "4         4.0  1343431408052662273  1343043963096326147  1609133982000.0   \n",
       "\n",
       "                 date                                              tweet  \\\n",
       "0 2020-12-28 19:46:18  Entertainment will be critical when cars drive...   \n",
       "1 2020-12-28 18:07:33  @kimpaquette Just meeting with Larry Ellison t...   \n",
       "2 2020-12-28 17:23:51                        @richierichhhhh_ Absolutely   \n",
       "3 2020-12-28 17:23:31  What should Tesla do with in-car gaming in an ...   \n",
       "4 2020-12-28 05:39:42                          @PPathole @WSJ Absolutely   \n",
       "\n",
       "  hashtags cashtags   user_id  user_id_str  ...  \\\n",
       "0       []       []  44196397   44196397.0  ...   \n",
       "1       []       []  44196397   44196397.0  ...   \n",
       "2       []       []  44196397   44196397.0  ...   \n",
       "3       []       []  44196397   44196397.0  ...   \n",
       "4       []       []  44196397   44196397.0  ...   \n",
       "\n",
       "                                                link urls  photos  video  \\\n",
       "0  https://twitter.com/elonmusk/status/1343644462...   []      []      0   \n",
       "1  https://twitter.com/elonmusk/status/1343619610...   []      []      0   \n",
       "2  https://twitter.com/elonmusk/status/1343608616...   []      []      0   \n",
       "3  https://twitter.com/elonmusk/status/1343608530...   []      []      0   \n",
       "4  https://twitter.com/elonmusk/status/1343431408...   []      []      0   \n",
       "\n",
       "  retweet   nlikes nreplies  nretweets  search  \\\n",
       "0   False  55085.0   2922.0     2611.0    None   \n",
       "1   False   8631.0    601.0      314.0    None   \n",
       "2   False  72434.0    495.0      907.0    None   \n",
       "3   False  33830.0   6932.0      884.0    None   \n",
       "4   False   2394.0    131.0       92.0    None   \n",
       "\n",
       "                                            reply_to  \n",
       "0                                                 []  \n",
       "1  [{'screen_name': 'kimpaquette', 'name': 'Kim P...  \n",
       "2  [{'screen_name': 'richierichhhhh_', 'name': 'R...  \n",
       "3                                                 []  \n",
       "4  [{'screen_name': 'PPathole', 'name': 'Pranay P...  \n",
       "\n",
       "[5 rows x 24 columns]"
      ]
     },
     "execution_count": 32,
     "metadata": {},
     "output_type": "execute_result"
    }
   ],
   "source": [
    "df.head(5)"
   ]
  },
  {
   "cell_type": "code",
   "execution_count": 22,
   "id": "eebf5c5c",
   "metadata": {},
   "outputs": [
    {
     "data": {
      "text/plain": [
       "retweet_id         34878\n",
       "user_rt            34878\n",
       "near               34878\n",
       "geo                34878\n",
       "source             34878\n",
       "place              34878\n",
       "trans_dest         34878\n",
       "trans_src          34878\n",
       "translate          34878\n",
       "retweet_date       34878\n",
       "user_rt_id         34878\n",
       "quote_url          33837\n",
       "thumbnail          32546\n",
       "time               30735\n",
       "mentions           30735\n",
       "replies_count      30735\n",
       "retweets_count     30735\n",
       "likes_count        30735\n",
       "nlikes              4143\n",
       "search              4143\n",
       "nretweets           4143\n",
       "nreplies            4143\n",
       "Unnamed: 0          4143\n",
       "hour                4143\n",
       "day                 4143\n",
       "user_id_str         4143\n",
       "id                     0\n",
       "cashtags               0\n",
       "conversation_id        0\n",
       "created_at             0\n",
       "date                   0\n",
       "timezone               0\n",
       "tweet                  0\n",
       "language               0\n",
       "hashtags               0\n",
       "user_id                0\n",
       "reply_to               0\n",
       "video                  0\n",
       "username               0\n",
       "name                   0\n",
       "link                   0\n",
       "urls                   0\n",
       "photos                 0\n",
       "retweet                0\n",
       "dtype: int64"
      ]
     },
     "execution_count": 22,
     "metadata": {},
     "output_type": "execute_result"
    }
   ],
   "source": [
    "df.isnull().sum().sort_values(ascending = False)"
   ]
  },
  {
   "cell_type": "code",
   "execution_count": 23,
   "id": "33f7870d",
   "metadata": {},
   "outputs": [],
   "source": [
    "df.drop(['timezone', 'language', 'retweet_id', 'user_rt', 'near', 'geo', 'source', 'place', 'trans_dest', 'trans_src', 'translate', 'retweet_date', 'user_rt_id', 'quote_url', 'thumbnail', 'time', 'mentions', 'replies_count', 'retweets_count', 'likes_count'], axis=1, inplace=True)"
   ]
  },
  {
   "cell_type": "code",
   "execution_count": 27,
   "id": "7f607f46",
   "metadata": {},
   "outputs": [],
   "source": [
    "df['date'] = pd.to_datetime(df['date'])"
   ]
  },
  {
   "cell_type": "code",
   "execution_count": 29,
   "id": "d141c0d2",
   "metadata": {},
   "outputs": [
    {
     "name": "stdout",
     "output_type": "stream",
     "text": [
      "<class 'pandas.core.frame.DataFrame'>\n",
      "Int64Index: 34878 entries, 0 to 26\n",
      "Data columns (total 24 columns):\n",
      " #   Column           Non-Null Count  Dtype         \n",
      "---  ------           --------------  -----         \n",
      " 0   Unnamed: 0       30735 non-null  float64       \n",
      " 1   id               34878 non-null  int64         \n",
      " 2   conversation_id  34878 non-null  int64         \n",
      " 3   created_at       34878 non-null  object        \n",
      " 4   date             34878 non-null  datetime64[ns]\n",
      " 5   tweet            34878 non-null  object        \n",
      " 6   hashtags         34878 non-null  object        \n",
      " 7   cashtags         34878 non-null  object        \n",
      " 8   user_id          34878 non-null  int64         \n",
      " 9   user_id_str      30735 non-null  float64       \n",
      " 10  username         34878 non-null  object        \n",
      " 11  name             34878 non-null  object        \n",
      " 12  day              30735 non-null  float64       \n",
      " 13  hour             30735 non-null  float64       \n",
      " 14  link             34878 non-null  object        \n",
      " 15  urls             34878 non-null  object        \n",
      " 16  photos           34878 non-null  object        \n",
      " 17  video            34878 non-null  int64         \n",
      " 18  retweet          34878 non-null  bool          \n",
      " 19  nlikes           30735 non-null  float64       \n",
      " 20  nreplies         30735 non-null  float64       \n",
      " 21  nretweets        30735 non-null  float64       \n",
      " 22  search           30735 non-null  object        \n",
      " 23  reply_to         34878 non-null  object        \n",
      "dtypes: bool(1), datetime64[ns](1), float64(7), int64(4), object(11)\n",
      "memory usage: 6.4+ MB\n"
     ]
    }
   ],
   "source": []
  },
  {
   "cell_type": "code",
   "execution_count": 30,
   "id": "5cc81f3f",
   "metadata": {},
   "outputs": [
    {
     "name": "stdout",
     "output_type": "stream",
     "text": [
      "start_date:  2010-06-04 18:31:57\n",
      "end_date:  2022-03-05 00:00:00\n"
     ]
    }
   ],
   "source": [
    "print('start_date: ', df.date.min())\n",
    "print('end_date: ', df.date.max())"
   ]
  },
  {
   "cell_type": "code",
   "execution_count": 31,
   "id": "d7f478e2",
   "metadata": {},
   "outputs": [
    {
     "data": {
      "text/plain": [
       "<AxesSubplot:>"
      ]
     },
     "execution_count": 31,
     "metadata": {},
     "output_type": "execute_result"
    },
    {
     "data": {
      "image/png": "[encoded data removed]",
      "text/plain": [
       "<Figure size 432x288 with 1 Axes>"
      ]
     },
     "metadata": {
      "needs_background": "light"
     },
     "output_type": "display_data"
    }
   ],
   "source": [
    "df.date.hist()"
   ]
  },
  {
   "cell_type": "code",
   "execution_count": 39,
   "id": "dec19b2f",
   "metadata": {},
   "outputs": [
    {
     "ename": "ModuleNotFoundError",
     "evalue": "No module named 'pandasql'",
     "output_type": "error",
     "traceback": [
      "\u001b[0;31m---------------------------------------------------------------------------\u001b[0m",
      "\u001b[0;31mModuleNotFoundError\u001b[0m                       Traceback (most recent call last)",
      "\u001b[0;32m/var/folders/zd/q0vqjyzj26x22rk862mcnn0r0000gn/T/ipykernel_28179/2452713334.py\u001b[0m in \u001b[0;36m<module>\u001b[0;34m\u001b[0m\n\u001b[0;32m----> 1\u001b[0;31m \u001b[0;32mfrom\u001b[0m \u001b[0mpandasql\u001b[0m \u001b[0;32mimport\u001b[0m \u001b[0msqldf\u001b[0m\u001b[0;34m\u001b[0m\u001b[0;34m\u001b[0m\u001b[0m\n\u001b[0m\u001b[1;32m      2\u001b[0m \u001b[0mpysqldf\u001b[0m \u001b[0;34m=\u001b[0m \u001b[0;32mlambda\u001b[0m \u001b[0mq\u001b[0m\u001b[0;34m:\u001b[0m \u001b[0msqldf\u001b[0m\u001b[0;34m(\u001b[0m\u001b[0mq\u001b[0m\u001b[0;34m,\u001b[0m \u001b[0mglobals\u001b[0m\u001b[0;34m(\u001b[0m\u001b[0;34m)\u001b[0m\u001b[0;34m)\u001b[0m\u001b[0;34m\u001b[0m\u001b[0;34m\u001b[0m\u001b[0m\n",
      "\u001b[0;31mModuleNotFoundError\u001b[0m: No module named 'pandasql'"
     ]
    }
   ],
   "source": [
    "from pandasql import sqldf\n",
    "pysqldf = lambda q: sqldf(q, globals())"
   ]
  },
  {
   "cell_type": "code",
   "execution_count": null,
   "id": "e904950d",
   "metadata": {},
   "outputs": [],
   "source": []
  }
 ],
 "metadata": {
  "kernelspec": {
   "display_name": "Python 3 (ipykernel)",
   "language": "python",
   "name": "python3"
  },
  "language_info": {
   "codemirror_mode": {
    "name": "ipython",
    "version": 3
   },
   "file_extension": ".py",
   "mimetype": "text/x-python",
   "name": "python",
   "nbconvert_exporter": "python",
   "pygments_lexer": "ipython3",
   "version": "3.8.12"
  }
 },
 "nbformat": 4,
 "nbformat_minor": 5
}
